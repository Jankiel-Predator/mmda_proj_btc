{
  "cells": [
    {
      "cell_type": "code",
      "execution_count": null,
      "metadata": {
        "id": "Tv1EPDMs03Gq"
      },
      "outputs": [],
      "source": [
        "import numpy as np\n",
        "import pandas as pd\n",
        "import matplotlib.pyplot as plt\n",
        "from xgboost import XGBRegressor\n",
        "\n",
        "from sklearn.preprocessing import MinMaxScaler, StandardScaler\n",
        "from sklearn.metrics import mean_squared_error, mean_squared_log_error, \\\n",
        "                            r2_score, mean_absolute_error\n",
        "\n",
        "from tensorflow.keras.models import Sequential, load_model\n",
        "from tensorflow.keras.layers import Dense, LSTM, Dropout, GRU, Bidirectional\n",
        "from tensorflow.random import set_seed\n",
        "from tensorflow.keras.callbacks import EarlyStopping, ModelCheckpoint\n",
        "\n",
        "set_seed(455)\n",
        "np.random.seed(455)"
      ]
    },
    {
      "cell_type": "code",
      "execution_count": 30,
      "metadata": {
        "id": "n_1RVgfcG5Ew"
      },
      "outputs": [],
      "source": [
        "def evaluate_model(test, predicted):\n",
        "    rmse = np.sqrt(mean_squared_error(test, predicted))\n",
        "    mae = mean_absolute_error(test, predicted)\n",
        "    r2 = r2_score(test, predicted)\n",
        "    msle = mean_squared_log_error(test, predicted)\n",
        "    mape = np.mean(np.abs((test - predicted) / test)) * 100\n",
        "\n",
        "    print(f\"The root mean squared error (RMSE) is {rmse:.2f}\")\n",
        "    print(f\"The Mean Absolute Error (MAE) is {mae:.2f}\")\n",
        "    print(f\"The R-squared (R²) score is {r2:.4f}\\n\")\n",
        "    print(f\"The Mean Squared Logarithmic Error (MSLE) is {msle:.6f}\")\n",
        "    print(f\"The Mean Absolute Percentage Error (MAPE) is {mape:.2f}%.\")"
      ]
    },
    {
      "cell_type": "code",
      "execution_count": 31,
      "metadata": {
        "id": "slFGfvsdG9t4"
      },
      "outputs": [],
      "source": [
        "def plot_predictions(test, predicted):\n",
        "    plt.figure(figsize=(16, 9))\n",
        "    plt.plot(test, color=\"gray\", label=\"Real\")\n",
        "    plt.plot(predicted, color=\"red\", label=\"Predicted\")\n",
        "    plt.title(\"Bitcoin Price Prediction\")\n",
        "    plt.xlabel(\"Time\")\n",
        "    plt.ylabel(\"Bitcoin Price ($)\")\n",
        "    plt.legend()\n",
        "    plt.show()"
      ]
    },
    {
      "cell_type": "code",
      "execution_count": 32,
      "metadata": {
        "id": "Py0p6MQF06b3"
      },
      "outputs": [],
      "source": [
        "dataset = pd.read_csv('bitcoin_preprocessed.csv', parse_dates=['Date'], index_col = \"Date\")"
      ]
    },
    {
      "cell_type": "code",
      "execution_count": 33,
      "metadata": {
        "colab": {
          "base_uri": "https://localhost:8080/",
          "height": 455
        },
        "id": "KE-ibqZoLu03",
        "outputId": "5569bb79-dae5-4634-8400-773a532f7f48"
      },
      "outputs": [
        {
          "data": {
            "application/vnd.google.colaboratory.intrinsic+json": {
              "summary": "{\n  \"name\": \"dataset\",\n  \"rows\": 5282,\n  \"fields\": [\n    {\n      \"column\": \"Date\",\n      \"properties\": {\n        \"dtype\": \"date\",\n        \"min\": \"2010-07-18 00:00:00\",\n        \"max\": \"2025-01-01 00:00:00\",\n        \"num_unique_values\": 5282,\n        \"samples\": [\n          \"2014-07-05 00:00:00\",\n          \"2023-08-31 00:00:00\",\n          \"2010-07-26 00:00:00\"\n        ],\n        \"semantic_type\": \"\",\n        \"description\": \"\"\n      }\n    },\n    {\n      \"column\": \"Close\",\n      \"properties\": {\n        \"dtype\": \"number\",\n        \"std\": 20663.596559535723,\n        \"min\": 0.1,\n        \"max\": 106138.9,\n        \"num_unique_values\": 4327,\n        \"samples\": [\n          8127.3,\n          1013.0,\n          6427.1\n        ],\n        \"semantic_type\": \"\",\n        \"description\": \"\"\n      }\n    },\n    {\n      \"column\": \"Open\",\n      \"properties\": {\n        \"dtype\": \"number\",\n        \"std\": 20634.79651317963,\n        \"min\": 0.0,\n        \"max\": 106140.7,\n        \"num_unique_values\": 4320,\n        \"samples\": [\n          884.3,\n          5.3,\n          8118.1\n        ],\n        \"semantic_type\": \"\",\n        \"description\": \"\"\n      }\n    },\n    {\n      \"column\": \"High\",\n      \"properties\": {\n        \"dtype\": \"number\",\n        \"std\": 21096.208461019043,\n        \"min\": 0.1,\n        \"max\": 108244.9,\n        \"num_unique_values\": 4315,\n        \"samples\": [\n          29409.8,\n          7264.3,\n          7694.5\n        ],\n        \"semantic_type\": \"\",\n        \"description\": \"\"\n      }\n    },\n    {\n      \"column\": \"Low\",\n      \"properties\": {\n        \"dtype\": \"number\",\n        \"std\": 20162.686269815764,\n        \"min\": 0.0,\n        \"max\": 105350.6,\n        \"num_unique_values\": 4324,\n        \"samples\": [\n          3243.1,\n          2.2,\n          28164.4\n        ],\n        \"semantic_type\": \"\",\n        \"description\": \"\"\n      }\n    },\n    {\n      \"column\": \"Volume\",\n      \"properties\": {\n        \"dtype\": \"number\",\n        \"std\": 150707720.70442337,\n        \"min\": 0.0,\n        \"max\": 4470000000.0,\n        \"num_unique_values\": 4653,\n        \"samples\": [\n          17680.0,\n          348990.0,\n          125170.0\n        ],\n        \"semantic_type\": \"\",\n        \"description\": \"\"\n      }\n    },\n    {\n      \"column\": \"Change %\",\n      \"properties\": {\n        \"dtype\": \"category\",\n        \"num_unique_values\": 1567,\n        \"samples\": [\n          \"-3.80%\",\n          \"-16.69%\",\n          \"-3.78%\"\n        ],\n        \"semantic_type\": \"\",\n        \"description\": \"\"\n      }\n    },\n    {\n      \"column\": \"Average\",\n      \"properties\": {\n        \"dtype\": \"number\",\n        \"std\": 20626.123003307228,\n        \"min\": 0.05,\n        \"max\": 106797.75,\n        \"num_unique_values\": 4546,\n        \"samples\": [\n          111.05,\n          15947.5,\n          1.85\n        ],\n        \"semantic_type\": \"\",\n        \"description\": \"\"\n      }\n    }\n  ]\n}",
              "type": "dataframe",
              "variable_name": "dataset"
            },
            "text/html": [
              "\n",
              "  <div id=\"df-b8ebf91e-5eb6-41b8-97cf-0bfc4b67c8a3\" class=\"colab-df-container\">\n",
              "    <div>\n",
              "<style scoped>\n",
              "    .dataframe tbody tr th:only-of-type {\n",
              "        vertical-align: middle;\n",
              "    }\n",
              "\n",
              "    .dataframe tbody tr th {\n",
              "        vertical-align: top;\n",
              "    }\n",
              "\n",
              "    .dataframe thead th {\n",
              "        text-align: right;\n",
              "    }\n",
              "</style>\n",
              "<table border=\"1\" class=\"dataframe\">\n",
              "  <thead>\n",
              "    <tr style=\"text-align: right;\">\n",
              "      <th></th>\n",
              "      <th>Close</th>\n",
              "      <th>Open</th>\n",
              "      <th>High</th>\n",
              "      <th>Low</th>\n",
              "      <th>Volume</th>\n",
              "      <th>Change %</th>\n",
              "      <th>Average</th>\n",
              "    </tr>\n",
              "    <tr>\n",
              "      <th>Date</th>\n",
              "      <th></th>\n",
              "      <th></th>\n",
              "      <th></th>\n",
              "      <th></th>\n",
              "      <th></th>\n",
              "      <th></th>\n",
              "      <th></th>\n",
              "    </tr>\n",
              "  </thead>\n",
              "  <tbody>\n",
              "    <tr>\n",
              "      <th>2010-07-18</th>\n",
              "      <td>0.1</td>\n",
              "      <td>0.0</td>\n",
              "      <td>0.1</td>\n",
              "      <td>0.1</td>\n",
              "      <td>80.0</td>\n",
              "      <td>0.00%</td>\n",
              "      <td>0.10</td>\n",
              "    </tr>\n",
              "    <tr>\n",
              "      <th>2010-07-19</th>\n",
              "      <td>0.1</td>\n",
              "      <td>0.1</td>\n",
              "      <td>0.1</td>\n",
              "      <td>0.1</td>\n",
              "      <td>570.0</td>\n",
              "      <td>0.00%</td>\n",
              "      <td>0.10</td>\n",
              "    </tr>\n",
              "    <tr>\n",
              "      <th>2010-07-20</th>\n",
              "      <td>0.1</td>\n",
              "      <td>0.1</td>\n",
              "      <td>0.1</td>\n",
              "      <td>0.1</td>\n",
              "      <td>260.0</td>\n",
              "      <td>0.00%</td>\n",
              "      <td>0.10</td>\n",
              "    </tr>\n",
              "    <tr>\n",
              "      <th>2010-07-21</th>\n",
              "      <td>0.1</td>\n",
              "      <td>0.1</td>\n",
              "      <td>0.1</td>\n",
              "      <td>0.1</td>\n",
              "      <td>580.0</td>\n",
              "      <td>0.00%</td>\n",
              "      <td>0.10</td>\n",
              "    </tr>\n",
              "    <tr>\n",
              "      <th>2010-07-22</th>\n",
              "      <td>0.1</td>\n",
              "      <td>0.1</td>\n",
              "      <td>0.1</td>\n",
              "      <td>0.1</td>\n",
              "      <td>2160.0</td>\n",
              "      <td>0.00%</td>\n",
              "      <td>0.10</td>\n",
              "    </tr>\n",
              "    <tr>\n",
              "      <th>...</th>\n",
              "      <td>...</td>\n",
              "      <td>...</td>\n",
              "      <td>...</td>\n",
              "      <td>...</td>\n",
              "      <td>...</td>\n",
              "      <td>...</td>\n",
              "      <td>...</td>\n",
              "    </tr>\n",
              "    <tr>\n",
              "      <th>2024-12-28</th>\n",
              "      <td>95284.5</td>\n",
              "      <td>94274.9</td>\n",
              "      <td>95684.3</td>\n",
              "      <td>94124.7</td>\n",
              "      <td>32970.0</td>\n",
              "      <td>1.07%</td>\n",
              "      <td>94904.50</td>\n",
              "    </tr>\n",
              "    <tr>\n",
              "      <th>2024-12-29</th>\n",
              "      <td>93716.3</td>\n",
              "      <td>95282.6</td>\n",
              "      <td>95315.4</td>\n",
              "      <td>93026.7</td>\n",
              "      <td>47710.0</td>\n",
              "      <td>-1.65%</td>\n",
              "      <td>94171.05</td>\n",
              "    </tr>\n",
              "    <tr>\n",
              "      <th>2024-12-30</th>\n",
              "      <td>92779.8</td>\n",
              "      <td>93718.7</td>\n",
              "      <td>94936.4</td>\n",
              "      <td>91522.3</td>\n",
              "      <td>112430.0</td>\n",
              "      <td>-1.00%</td>\n",
              "      <td>93229.35</td>\n",
              "    </tr>\n",
              "    <tr>\n",
              "      <th>2024-12-31</th>\n",
              "      <td>93557.2</td>\n",
              "      <td>92777.2</td>\n",
              "      <td>96163.4</td>\n",
              "      <td>92036.2</td>\n",
              "      <td>74850.0</td>\n",
              "      <td>0.84%</td>\n",
              "      <td>94099.80</td>\n",
              "    </tr>\n",
              "    <tr>\n",
              "      <th>2025-01-01</th>\n",
              "      <td>94560.2</td>\n",
              "      <td>93557.3</td>\n",
              "      <td>95100.0</td>\n",
              "      <td>92939.3</td>\n",
              "      <td>43340.0</td>\n",
              "      <td>1.07%</td>\n",
              "      <td>94019.65</td>\n",
              "    </tr>\n",
              "  </tbody>\n",
              "</table>\n",
              "<p>5282 rows × 7 columns</p>\n",
              "</div>\n",
              "    <div class=\"colab-df-buttons\">\n",
              "\n",
              "  <div class=\"colab-df-container\">\n",
              "    <button class=\"colab-df-convert\" onclick=\"convertToInteractive('df-b8ebf91e-5eb6-41b8-97cf-0bfc4b67c8a3')\"\n",
              "            title=\"Convert this dataframe to an interactive table.\"\n",
              "            style=\"display:none;\">\n",
              "\n",
              "  <svg xmlns=\"http://www.w3.org/2000/svg\" height=\"24px\" viewBox=\"0 -960 960 960\">\n",
              "    <path d=\"M120-120v-720h720v720H120Zm60-500h600v-160H180v160Zm220 220h160v-160H400v160Zm0 220h160v-160H400v160ZM180-400h160v-160H180v160Zm440 0h160v-160H620v160ZM180-180h160v-160H180v160Zm440 0h160v-160H620v160Z\"/>\n",
              "  </svg>\n",
              "    </button>\n",
              "\n",
              "  <style>\n",
              "    .colab-df-container {\n",
              "      display:flex;\n",
              "      gap: 12px;\n",
              "    }\n",
              "\n",
              "    .colab-df-convert {\n",
              "      background-color: #E8F0FE;\n",
              "      border: none;\n",
              "      border-radius: 50%;\n",
              "      cursor: pointer;\n",
              "      display: none;\n",
              "      fill: #1967D2;\n",
              "      height: 32px;\n",
              "      padding: 0 0 0 0;\n",
              "      width: 32px;\n",
              "    }\n",
              "\n",
              "    .colab-df-convert:hover {\n",
              "      background-color: #E2EBFA;\n",
              "      box-shadow: 0px 1px 2px rgba(60, 64, 67, 0.3), 0px 1px 3px 1px rgba(60, 64, 67, 0.15);\n",
              "      fill: #174EA6;\n",
              "    }\n",
              "\n",
              "    .colab-df-buttons div {\n",
              "      margin-bottom: 4px;\n",
              "    }\n",
              "\n",
              "    [theme=dark] .colab-df-convert {\n",
              "      background-color: #3B4455;\n",
              "      fill: #D2E3FC;\n",
              "    }\n",
              "\n",
              "    [theme=dark] .colab-df-convert:hover {\n",
              "      background-color: #434B5C;\n",
              "      box-shadow: 0px 1px 3px 1px rgba(0, 0, 0, 0.15);\n",
              "      filter: drop-shadow(0px 1px 2px rgba(0, 0, 0, 0.3));\n",
              "      fill: #FFFFFF;\n",
              "    }\n",
              "  </style>\n",
              "\n",
              "    <script>\n",
              "      const buttonEl =\n",
              "        document.querySelector('#df-b8ebf91e-5eb6-41b8-97cf-0bfc4b67c8a3 button.colab-df-convert');\n",
              "      buttonEl.style.display =\n",
              "        google.colab.kernel.accessAllowed ? 'block' : 'none';\n",
              "\n",
              "      async function convertToInteractive(key) {\n",
              "        const element = document.querySelector('#df-b8ebf91e-5eb6-41b8-97cf-0bfc4b67c8a3');\n",
              "        const dataTable =\n",
              "          await google.colab.kernel.invokeFunction('convertToInteractive',\n",
              "                                                    [key], {});\n",
              "        if (!dataTable) return;\n",
              "\n",
              "        const docLinkHtml = 'Like what you see? Visit the ' +\n",
              "          '<a target=\"_blank\" href=https://colab.research.google.com/notebooks/data_table.ipynb>data table notebook</a>'\n",
              "          + ' to learn more about interactive tables.';\n",
              "        element.innerHTML = '';\n",
              "        dataTable['output_type'] = 'display_data';\n",
              "        await google.colab.output.renderOutput(dataTable, element);\n",
              "        const docLink = document.createElement('div');\n",
              "        docLink.innerHTML = docLinkHtml;\n",
              "        element.appendChild(docLink);\n",
              "      }\n",
              "    </script>\n",
              "  </div>\n",
              "\n",
              "\n",
              "<div id=\"df-653b61c1-4073-4eac-a6b7-8710e5ed3c85\">\n",
              "  <button class=\"colab-df-quickchart\" onclick=\"quickchart('df-653b61c1-4073-4eac-a6b7-8710e5ed3c85')\"\n",
              "            title=\"Suggest charts\"\n",
              "            style=\"display:none;\">\n",
              "\n",
              "<svg xmlns=\"http://www.w3.org/2000/svg\" height=\"24px\"viewBox=\"0 0 24 24\"\n",
              "     width=\"24px\">\n",
              "    <g>\n",
              "        <path d=\"M19 3H5c-1.1 0-2 .9-2 2v14c0 1.1.9 2 2 2h14c1.1 0 2-.9 2-2V5c0-1.1-.9-2-2-2zM9 17H7v-7h2v7zm4 0h-2V7h2v10zm4 0h-2v-4h2v4z\"/>\n",
              "    </g>\n",
              "</svg>\n",
              "  </button>\n",
              "\n",
              "<style>\n",
              "  .colab-df-quickchart {\n",
              "      --bg-color: #E8F0FE;\n",
              "      --fill-color: #1967D2;\n",
              "      --hover-bg-color: #E2EBFA;\n",
              "      --hover-fill-color: #174EA6;\n",
              "      --disabled-fill-color: #AAA;\n",
              "      --disabled-bg-color: #DDD;\n",
              "  }\n",
              "\n",
              "  [theme=dark] .colab-df-quickchart {\n",
              "      --bg-color: #3B4455;\n",
              "      --fill-color: #D2E3FC;\n",
              "      --hover-bg-color: #434B5C;\n",
              "      --hover-fill-color: #FFFFFF;\n",
              "      --disabled-bg-color: #3B4455;\n",
              "      --disabled-fill-color: #666;\n",
              "  }\n",
              "\n",
              "  .colab-df-quickchart {\n",
              "    background-color: var(--bg-color);\n",
              "    border: none;\n",
              "    border-radius: 50%;\n",
              "    cursor: pointer;\n",
              "    display: none;\n",
              "    fill: var(--fill-color);\n",
              "    height: 32px;\n",
              "    padding: 0;\n",
              "    width: 32px;\n",
              "  }\n",
              "\n",
              "  .colab-df-quickchart:hover {\n",
              "    background-color: var(--hover-bg-color);\n",
              "    box-shadow: 0 1px 2px rgba(60, 64, 67, 0.3), 0 1px 3px 1px rgba(60, 64, 67, 0.15);\n",
              "    fill: var(--button-hover-fill-color);\n",
              "  }\n",
              "\n",
              "  .colab-df-quickchart-complete:disabled,\n",
              "  .colab-df-quickchart-complete:disabled:hover {\n",
              "    background-color: var(--disabled-bg-color);\n",
              "    fill: var(--disabled-fill-color);\n",
              "    box-shadow: none;\n",
              "  }\n",
              "\n",
              "  .colab-df-spinner {\n",
              "    border: 2px solid var(--fill-color);\n",
              "    border-color: transparent;\n",
              "    border-bottom-color: var(--fill-color);\n",
              "    animation:\n",
              "      spin 1s steps(1) infinite;\n",
              "  }\n",
              "\n",
              "  @keyframes spin {\n",
              "    0% {\n",
              "      border-color: transparent;\n",
              "      border-bottom-color: var(--fill-color);\n",
              "      border-left-color: var(--fill-color);\n",
              "    }\n",
              "    20% {\n",
              "      border-color: transparent;\n",
              "      border-left-color: var(--fill-color);\n",
              "      border-top-color: var(--fill-color);\n",
              "    }\n",
              "    30% {\n",
              "      border-color: transparent;\n",
              "      border-left-color: var(--fill-color);\n",
              "      border-top-color: var(--fill-color);\n",
              "      border-right-color: var(--fill-color);\n",
              "    }\n",
              "    40% {\n",
              "      border-color: transparent;\n",
              "      border-right-color: var(--fill-color);\n",
              "      border-top-color: var(--fill-color);\n",
              "    }\n",
              "    60% {\n",
              "      border-color: transparent;\n",
              "      border-right-color: var(--fill-color);\n",
              "    }\n",
              "    80% {\n",
              "      border-color: transparent;\n",
              "      border-right-color: var(--fill-color);\n",
              "      border-bottom-color: var(--fill-color);\n",
              "    }\n",
              "    90% {\n",
              "      border-color: transparent;\n",
              "      border-bottom-color: var(--fill-color);\n",
              "    }\n",
              "  }\n",
              "</style>\n",
              "\n",
              "  <script>\n",
              "    async function quickchart(key) {\n",
              "      const quickchartButtonEl =\n",
              "        document.querySelector('#' + key + ' button');\n",
              "      quickchartButtonEl.disabled = true;  // To prevent multiple clicks.\n",
              "      quickchartButtonEl.classList.add('colab-df-spinner');\n",
              "      try {\n",
              "        const charts = await google.colab.kernel.invokeFunction(\n",
              "            'suggestCharts', [key], {});\n",
              "      } catch (error) {\n",
              "        console.error('Error during call to suggestCharts:', error);\n",
              "      }\n",
              "      quickchartButtonEl.classList.remove('colab-df-spinner');\n",
              "      quickchartButtonEl.classList.add('colab-df-quickchart-complete');\n",
              "    }\n",
              "    (() => {\n",
              "      let quickchartButtonEl =\n",
              "        document.querySelector('#df-653b61c1-4073-4eac-a6b7-8710e5ed3c85 button');\n",
              "      quickchartButtonEl.style.display =\n",
              "        google.colab.kernel.accessAllowed ? 'block' : 'none';\n",
              "    })();\n",
              "  </script>\n",
              "</div>\n",
              "\n",
              "  <div id=\"id_d9c843ad-c7ef-48c3-94a4-85ca4c124a0c\">\n",
              "    <style>\n",
              "      .colab-df-generate {\n",
              "        background-color: #E8F0FE;\n",
              "        border: none;\n",
              "        border-radius: 50%;\n",
              "        cursor: pointer;\n",
              "        display: none;\n",
              "        fill: #1967D2;\n",
              "        height: 32px;\n",
              "        padding: 0 0 0 0;\n",
              "        width: 32px;\n",
              "      }\n",
              "\n",
              "      .colab-df-generate:hover {\n",
              "        background-color: #E2EBFA;\n",
              "        box-shadow: 0px 1px 2px rgba(60, 64, 67, 0.3), 0px 1px 3px 1px rgba(60, 64, 67, 0.15);\n",
              "        fill: #174EA6;\n",
              "      }\n",
              "\n",
              "      [theme=dark] .colab-df-generate {\n",
              "        background-color: #3B4455;\n",
              "        fill: #D2E3FC;\n",
              "      }\n",
              "\n",
              "      [theme=dark] .colab-df-generate:hover {\n",
              "        background-color: #434B5C;\n",
              "        box-shadow: 0px 1px 3px 1px rgba(0, 0, 0, 0.15);\n",
              "        filter: drop-shadow(0px 1px 2px rgba(0, 0, 0, 0.3));\n",
              "        fill: #FFFFFF;\n",
              "      }\n",
              "    </style>\n",
              "    <button class=\"colab-df-generate\" onclick=\"generateWithVariable('dataset')\"\n",
              "            title=\"Generate code using this dataframe.\"\n",
              "            style=\"display:none;\">\n",
              "\n",
              "  <svg xmlns=\"http://www.w3.org/2000/svg\" height=\"24px\"viewBox=\"0 0 24 24\"\n",
              "       width=\"24px\">\n",
              "    <path d=\"M7,19H8.4L18.45,9,17,7.55,7,17.6ZM5,21V16.75L18.45,3.32a2,2,0,0,1,2.83,0l1.4,1.43a1.91,1.91,0,0,1,.58,1.4,1.91,1.91,0,0,1-.58,1.4L9.25,21ZM18.45,9,17,7.55Zm-12,3A5.31,5.31,0,0,0,4.9,8.1,5.31,5.31,0,0,0,1,6.5,5.31,5.31,0,0,0,4.9,4.9,5.31,5.31,0,0,0,6.5,1,5.31,5.31,0,0,0,8.1,4.9,5.31,5.31,0,0,0,12,6.5,5.46,5.46,0,0,0,6.5,12Z\"/>\n",
              "  </svg>\n",
              "    </button>\n",
              "    <script>\n",
              "      (() => {\n",
              "      const buttonEl =\n",
              "        document.querySelector('#id_d9c843ad-c7ef-48c3-94a4-85ca4c124a0c button.colab-df-generate');\n",
              "      buttonEl.style.display =\n",
              "        google.colab.kernel.accessAllowed ? 'block' : 'none';\n",
              "\n",
              "      buttonEl.onclick = () => {\n",
              "        google.colab.notebook.generateWithVariable('dataset');\n",
              "      }\n",
              "      })();\n",
              "    </script>\n",
              "  </div>\n",
              "\n",
              "    </div>\n",
              "  </div>\n"
            ],
            "text/plain": [
              "              Close     Open     High      Low    Volume Change %   Average\n",
              "Date                                                                       \n",
              "2010-07-18      0.1      0.0      0.1      0.1      80.0    0.00%      0.10\n",
              "2010-07-19      0.1      0.1      0.1      0.1     570.0    0.00%      0.10\n",
              "2010-07-20      0.1      0.1      0.1      0.1     260.0    0.00%      0.10\n",
              "2010-07-21      0.1      0.1      0.1      0.1     580.0    0.00%      0.10\n",
              "2010-07-22      0.1      0.1      0.1      0.1    2160.0    0.00%      0.10\n",
              "...             ...      ...      ...      ...       ...      ...       ...\n",
              "2024-12-28  95284.5  94274.9  95684.3  94124.7   32970.0    1.07%  94904.50\n",
              "2024-12-29  93716.3  95282.6  95315.4  93026.7   47710.0   -1.65%  94171.05\n",
              "2024-12-30  92779.8  93718.7  94936.4  91522.3  112430.0   -1.00%  93229.35\n",
              "2024-12-31  93557.2  92777.2  96163.4  92036.2   74850.0    0.84%  94099.80\n",
              "2025-01-01  94560.2  93557.3  95100.0  92939.3   43340.0    1.07%  94019.65\n",
              "\n",
              "[5282 rows x 7 columns]"
            ]
          },
          "execution_count": 33,
          "metadata": {},
          "output_type": "execute_result"
        }
      ],
      "source": [
        "dataset"
      ]
    },
    {
      "cell_type": "code",
      "execution_count": 34,
      "metadata": {
        "colab": {
          "base_uri": "https://localhost:8080/"
        },
        "id": "QgmAKXBp9N5x",
        "outputId": "ebabe3bd-797b-41eb-fcff-97a598ae7c18"
      },
      "outputs": [
        {
          "name": "stdout",
          "output_type": "stream",
          "text": [
            "<class 'pandas.core.frame.DataFrame'>\n",
            "DatetimeIndex: 5282 entries, 2010-07-18 to 2025-01-01\n",
            "Data columns (total 7 columns):\n",
            " #   Column    Non-Null Count  Dtype  \n",
            "---  ------    --------------  -----  \n",
            " 0   Close     5282 non-null   float64\n",
            " 1   Open      5282 non-null   float64\n",
            " 2   High      5282 non-null   float64\n",
            " 3   Low       5282 non-null   float64\n",
            " 4   Volume    5282 non-null   float64\n",
            " 5   Change %  5282 non-null   object \n",
            " 6   Average   5282 non-null   float64\n",
            "dtypes: float64(6), object(1)\n",
            "memory usage: 330.1+ KB\n"
          ]
        }
      ],
      "source": [
        "dataset.info()"
      ]
    },
    {
      "cell_type": "code",
      "execution_count": 35,
      "metadata": {
        "colab": {
          "base_uri": "https://localhost:8080/"
        },
        "id": "7nFaCuVMILY7",
        "outputId": "df84f700-dd72-4897-9293-ae5ad1603b4f"
      },
      "outputs": [
        {
          "data": {
            "text/plain": [
              "(5282, 7)"
            ]
          },
          "execution_count": 35,
          "metadata": {},
          "output_type": "execute_result"
        }
      ],
      "source": [
        "dataset.shape"
      ]
    },
    {
      "cell_type": "code",
      "execution_count": 36,
      "metadata": {
        "id": "qr30ivVX1HGL"
      },
      "outputs": [],
      "source": [
        "# Create Moving Averages (Feature Engineering)\n",
        "#dataset[\"SMA_10\"] = dataset[\"Close\"].rolling(window=10).mean()\n",
        "#dataset[\"EMA_10\"] = dataset[\"Close\"].ewm(span=10, adjust=False).mean()\n",
        "\n",
        "# Drop NaN values from moving averages\n",
        "#dataset.dropna(inplace=True)\n",
        "\n",
        "# Define training and testing periods\n",
        "tstart = \"2010-07-18\"\n",
        "tend = \"2024-10-01\""
      ]
    },
    {
      "cell_type": "code",
      "execution_count": 37,
      "metadata": {
        "id": "P8GF7az-1y0N"
      },
      "outputs": [],
      "source": [
        "def train_test_split(dataset, tstart, tend):\n",
        "    tend_next = pd.to_datetime(tend) + pd.Timedelta(days=1)\n",
        "\n",
        "    train = dataset.loc[tstart:tend, \"Close\"].values\n",
        "    test = dataset.loc[tend_next:, \"Close\"].values\n",
        "    return train, test\n",
        "\n",
        "training_set, test_set = train_test_split(dataset, tstart, tend)"
      ]
    },
    {
      "cell_type": "code",
      "execution_count": 38,
      "metadata": {
        "colab": {
          "base_uri": "https://localhost:8080/"
        },
        "id": "Ty4FufDRIGuT",
        "outputId": "af49e477-ef12-4754-da2c-27c667e9440a"
      },
      "outputs": [
        {
          "data": {
            "text/plain": [
              "5190"
            ]
          },
          "execution_count": 38,
          "metadata": {},
          "output_type": "execute_result"
        }
      ],
      "source": [
        "len(training_set)"
      ]
    },
    {
      "cell_type": "code",
      "execution_count": 39,
      "metadata": {
        "colab": {
          "base_uri": "https://localhost:8080/"
        },
        "id": "PZeMlmS0Hxzl",
        "outputId": "95d9c1d8-d466-4fa6-b9b6-5c83b1dd1459"
      },
      "outputs": [
        {
          "data": {
            "text/plain": [
              "92"
            ]
          },
          "execution_count": 39,
          "metadata": {},
          "output_type": "execute_result"
        }
      ],
      "source": [
        "len(test_set)"
      ]
    },
    {
      "cell_type": "code",
      "execution_count": 40,
      "metadata": {
        "id": "GXi7FbP51zrI"
      },
      "outputs": [],
      "source": [
        "sc = MinMaxScaler()\n",
        "training_set = training_set.reshape(-1, 1)\n",
        "training_set_scaled = sc.fit_transform(training_set)"
      ]
    },
    {
      "cell_type": "code",
      "execution_count": 41,
      "metadata": {
        "colab": {
          "base_uri": "https://localhost:8080/"
        },
        "id": "1WLCdtIiI80M",
        "outputId": "7d04fead-4a67-4090-f22a-1d6bf0df8b39"
      },
      "outputs": [
        {
          "data": {
            "text/plain": [
              "array([[0.        ],\n",
              "       [0.        ],\n",
              "       [0.        ],\n",
              "       ...,\n",
              "       [0.89791176],\n",
              "       [0.86687278],\n",
              "       [0.8326066 ]])"
            ]
          },
          "execution_count": 41,
          "metadata": {},
          "output_type": "execute_result"
        }
      ],
      "source": [
        "training_set_scaled"
      ]
    },
    {
      "cell_type": "code",
      "execution_count": 42,
      "metadata": {
        "id": "PaLctgHD14jt"
      },
      "outputs": [],
      "source": [
        "def split_sequence(sequence, n_steps):\n",
        "    X, y = list(), list()\n",
        "    for i in range(len(sequence)):\n",
        "        end_ix = i + n_steps\n",
        "        if end_ix > len(sequence) - 1:\n",
        "            break\n",
        "        seq_x, seq_y = sequence[i:end_ix], sequence[end_ix]\n",
        "        X.append(seq_x)\n",
        "        y.append(seq_y)\n",
        "    return np.array(X), np.array(y)\n",
        "\n",
        "n_steps = 120  # Number of time steps to look back\n",
        "features = 1\n",
        "\n",
        "X_train, y_train = split_sequence(training_set_scaled, n_steps)\n",
        "\n",
        "# Reshape for GRU model\n",
        "X_train = X_train.reshape(X_train.shape[0], X_train.shape[1], features)"
      ]
    },
    {
      "cell_type": "code",
      "execution_count": 43,
      "metadata": {
        "colab": {
          "base_uri": "https://localhost:8080/"
        },
        "id": "axIt4Yr6JH5z",
        "outputId": "82d1f2ed-fff5-425a-c46e-c5515b26a0d6"
      },
      "outputs": [
        {
          "data": {
            "text/plain": [
              "120"
            ]
          },
          "execution_count": 43,
          "metadata": {},
          "output_type": "execute_result"
        }
      ],
      "source": [
        "X_train.shape[1]"
      ]
    },
    {
      "cell_type": "code",
      "execution_count": 44,
      "metadata": {
        "colab": {
          "base_uri": "https://localhost:8080/",
          "height": 248
        },
        "id": "T5eZ-G0-1_mK",
        "outputId": "892e3d51-63c6-45a7-a800-2395e3c4f2d5"
      },
      "outputs": [
        {
          "name": "stderr",
          "output_type": "stream",
          "text": [
            "/usr/local/lib/python3.11/dist-packages/keras/src/layers/rnn/rnn.py:204: UserWarning: Do not pass an `input_shape`/`input_dim` argument to a layer. When using Sequential models, prefer using an `Input(shape)` object as the first layer in the model instead.\n",
            "  super().__init__(**kwargs)\n"
          ]
        },
        {
          "data": {
            "text/html": [
              "<pre style=\"white-space:pre;overflow-x:auto;line-height:normal;font-family:Menlo,'DejaVu Sans Mono',consolas,'Courier New',monospace\"><span style=\"font-weight: bold\">Model: \"sequential_1\"</span>\n",
              "</pre>\n"
            ],
            "text/plain": [
              "\u001b[1mModel: \"sequential_1\"\u001b[0m\n"
            ]
          },
          "metadata": {},
          "output_type": "display_data"
        },
        {
          "data": {
            "text/html": [
              "<pre style=\"white-space:pre;overflow-x:auto;line-height:normal;font-family:Menlo,'DejaVu Sans Mono',consolas,'Courier New',monospace\">┏━━━━━━━━━━━━━━━━━━━━━━━━━━━━━━━━━━━━━━┳━━━━━━━━━━━━━━━━━━━━━━━━━━━━━┳━━━━━━━━━━━━━━━━━┓\n",
              "┃<span style=\"font-weight: bold\"> Layer (type)                         </span>┃<span style=\"font-weight: bold\"> Output Shape                </span>┃<span style=\"font-weight: bold\">         Param # </span>┃\n",
              "┡━━━━━━━━━━━━━━━━━━━━━━━━━━━━━━━━━━━━━━╇━━━━━━━━━━━━━━━━━━━━━━━━━━━━━╇━━━━━━━━━━━━━━━━━┩\n",
              "│ gru_1 (<span style=\"color: #0087ff; text-decoration-color: #0087ff\">GRU</span>)                          │ (<span style=\"color: #00d7ff; text-decoration-color: #00d7ff\">None</span>, <span style=\"color: #00af00; text-decoration-color: #00af00\">256</span>)                 │         <span style=\"color: #00af00; text-decoration-color: #00af00\">198,912</span> │\n",
              "├──────────────────────────────────────┼─────────────────────────────┼─────────────────┤\n",
              "│ dense_1 (<span style=\"color: #0087ff; text-decoration-color: #0087ff\">Dense</span>)                      │ (<span style=\"color: #00d7ff; text-decoration-color: #00d7ff\">None</span>, <span style=\"color: #00af00; text-decoration-color: #00af00\">1</span>)                   │             <span style=\"color: #00af00; text-decoration-color: #00af00\">257</span> │\n",
              "└──────────────────────────────────────┴─────────────────────────────┴─────────────────┘\n",
              "</pre>\n"
            ],
            "text/plain": [
              "┏━━━━━━━━━━━━━━━━━━━━━━━━━━━━━━━━━━━━━━┳━━━━━━━━━━━━━━━━━━━━━━━━━━━━━┳━━━━━━━━━━━━━━━━━┓\n",
              "┃\u001b[1m \u001b[0m\u001b[1mLayer (type)                        \u001b[0m\u001b[1m \u001b[0m┃\u001b[1m \u001b[0m\u001b[1mOutput Shape               \u001b[0m\u001b[1m \u001b[0m┃\u001b[1m \u001b[0m\u001b[1m        Param #\u001b[0m\u001b[1m \u001b[0m┃\n",
              "┡━━━━━━━━━━━━━━━━━━━━━━━━━━━━━━━━━━━━━━╇━━━━━━━━━━━━━━━━━━━━━━━━━━━━━╇━━━━━━━━━━━━━━━━━┩\n",
              "│ gru_1 (\u001b[38;5;33mGRU\u001b[0m)                          │ (\u001b[38;5;45mNone\u001b[0m, \u001b[38;5;34m256\u001b[0m)                 │         \u001b[38;5;34m198,912\u001b[0m │\n",
              "├──────────────────────────────────────┼─────────────────────────────┼─────────────────┤\n",
              "│ dense_1 (\u001b[38;5;33mDense\u001b[0m)                      │ (\u001b[38;5;45mNone\u001b[0m, \u001b[38;5;34m1\u001b[0m)                   │             \u001b[38;5;34m257\u001b[0m │\n",
              "└──────────────────────────────────────┴─────────────────────────────┴─────────────────┘\n"
            ]
          },
          "metadata": {},
          "output_type": "display_data"
        },
        {
          "data": {
            "text/html": [
              "<pre style=\"white-space:pre;overflow-x:auto;line-height:normal;font-family:Menlo,'DejaVu Sans Mono',consolas,'Courier New',monospace\"><span style=\"font-weight: bold\"> Total params: </span><span style=\"color: #00af00; text-decoration-color: #00af00\">199,169</span> (778.00 KB)\n",
              "</pre>\n"
            ],
            "text/plain": [
              "\u001b[1m Total params: \u001b[0m\u001b[38;5;34m199,169\u001b[0m (778.00 KB)\n"
            ]
          },
          "metadata": {},
          "output_type": "display_data"
        },
        {
          "data": {
            "text/html": [
              "<pre style=\"white-space:pre;overflow-x:auto;line-height:normal;font-family:Menlo,'DejaVu Sans Mono',consolas,'Courier New',monospace\"><span style=\"font-weight: bold\"> Trainable params: </span><span style=\"color: #00af00; text-decoration-color: #00af00\">199,169</span> (778.00 KB)\n",
              "</pre>\n"
            ],
            "text/plain": [
              "\u001b[1m Trainable params: \u001b[0m\u001b[38;5;34m199,169\u001b[0m (778.00 KB)\n"
            ]
          },
          "metadata": {},
          "output_type": "display_data"
        },
        {
          "data": {
            "text/html": [
              "<pre style=\"white-space:pre;overflow-x:auto;line-height:normal;font-family:Menlo,'DejaVu Sans Mono',consolas,'Courier New',monospace\"><span style=\"font-weight: bold\"> Non-trainable params: </span><span style=\"color: #00af00; text-decoration-color: #00af00\">0</span> (0.00 B)\n",
              "</pre>\n"
            ],
            "text/plain": [
              "\u001b[1m Non-trainable params: \u001b[0m\u001b[38;5;34m0\u001b[0m (0.00 B)\n"
            ]
          },
          "metadata": {},
          "output_type": "display_data"
        }
      ],
      "source": [
        "# The LSTM architecture\n",
        "model_gru = Sequential()\n",
        "model_gru.add(GRU(units=256, activation=\"tanh\", input_shape=(n_steps, features)))\n",
        "model_gru.add(Dense(units=1))\n",
        "# Compiling the model\n",
        "model_gru.compile(optimizer=\"RMSprop\", loss=\"mean_squared_error\")\n",
        "\n",
        "model_gru.summary()"
      ]
    },
    {
      "cell_type": "code",
      "execution_count": 45,
      "metadata": {
        "colab": {
          "base_uri": "https://localhost:8080/"
        },
        "id": "v6q0IY_q2B8t",
        "outputId": "5ac5a3e9-5679-4f82-abc6-6aa3d48b4da4"
      },
      "outputs": [
        {
          "name": "stdout",
          "output_type": "stream",
          "text": [
            "Epoch 1/25\n",
            "\u001b[1m159/159\u001b[0m \u001b[32m━━━━━━━━━━━━━━━━━━━━\u001b[0m\u001b[37m\u001b[0m \u001b[1m0s\u001b[0m 317ms/step - loss: 0.0089\n",
            "Epoch 1: loss improved from inf to 0.00250, saving model to default_gru.keras\n",
            "\u001b[1m159/159\u001b[0m \u001b[32m━━━━━━━━━━━━━━━━━━━━\u001b[0m\u001b[37m\u001b[0m \u001b[1m53s\u001b[0m 317ms/step - loss: 0.0088\n",
            "Epoch 2/25\n",
            "\u001b[1m159/159\u001b[0m \u001b[32m━━━━━━━━━━━━━━━━━━━━\u001b[0m\u001b[37m\u001b[0m \u001b[1m0s\u001b[0m 320ms/step - loss: 6.4274e-04\n",
            "Epoch 2: loss improved from 0.00250 to 0.00060, saving model to default_gru.keras\n",
            "\u001b[1m159/159\u001b[0m \u001b[32m━━━━━━━━━━━━━━━━━━━━\u001b[0m\u001b[37m\u001b[0m \u001b[1m82s\u001b[0m 320ms/step - loss: 6.4246e-04\n",
            "Epoch 3/25\n",
            "\u001b[1m159/159\u001b[0m \u001b[32m━━━━━━━━━━━━━━━━━━━━\u001b[0m\u001b[37m\u001b[0m \u001b[1m0s\u001b[0m 320ms/step - loss: 4.9931e-04\n",
            "Epoch 3: loss improved from 0.00060 to 0.00047, saving model to default_gru.keras\n",
            "\u001b[1m159/159\u001b[0m \u001b[32m━━━━━━━━━━━━━━━━━━━━\u001b[0m\u001b[37m\u001b[0m \u001b[1m51s\u001b[0m 320ms/step - loss: 4.9915e-04\n",
            "Epoch 4/25\n",
            "\u001b[1m159/159\u001b[0m \u001b[32m━━━━━━━━━━━━━━━━━━━━\u001b[0m\u001b[37m\u001b[0m \u001b[1m0s\u001b[0m 326ms/step - loss: 4.3158e-04\n",
            "Epoch 4: loss improved from 0.00047 to 0.00041, saving model to default_gru.keras\n",
            "\u001b[1m159/159\u001b[0m \u001b[32m━━━━━━━━━━━━━━━━━━━━\u001b[0m\u001b[37m\u001b[0m \u001b[1m83s\u001b[0m 327ms/step - loss: 4.3145e-04\n",
            "Epoch 5/25\n",
            "\u001b[1m159/159\u001b[0m \u001b[32m━━━━━━━━━━━━━━━━━━━━\u001b[0m\u001b[37m\u001b[0m \u001b[1m0s\u001b[0m 333ms/step - loss: 3.8752e-04\n",
            "Epoch 5: loss improved from 0.00041 to 0.00037, saving model to default_gru.keras\n",
            "\u001b[1m159/159\u001b[0m \u001b[32m━━━━━━━━━━━━━━━━━━━━\u001b[0m\u001b[37m\u001b[0m \u001b[1m53s\u001b[0m 333ms/step - loss: 3.8741e-04\n",
            "Epoch 6/25\n",
            "\u001b[1m159/159\u001b[0m \u001b[32m━━━━━━━━━━━━━━━━━━━━\u001b[0m\u001b[37m\u001b[0m \u001b[1m0s\u001b[0m 331ms/step - loss: 3.5502e-04\n",
            "Epoch 6: loss improved from 0.00037 to 0.00034, saving model to default_gru.keras\n",
            "\u001b[1m159/159\u001b[0m \u001b[32m━━━━━━━━━━━━━━━━━━━━\u001b[0m\u001b[37m\u001b[0m \u001b[1m53s\u001b[0m 331ms/step - loss: 3.5492e-04\n",
            "Epoch 7/25\n",
            "\u001b[1m159/159\u001b[0m \u001b[32m━━━━━━━━━━━━━━━━━━━━\u001b[0m\u001b[37m\u001b[0m \u001b[1m0s\u001b[0m 318ms/step - loss: 3.2989e-04\n",
            "Epoch 7: loss improved from 0.00034 to 0.00032, saving model to default_gru.keras\n",
            "\u001b[1m159/159\u001b[0m \u001b[32m━━━━━━━━━━━━━━━━━━━━\u001b[0m\u001b[37m\u001b[0m \u001b[1m51s\u001b[0m 318ms/step - loss: 3.2980e-04\n",
            "Epoch 8/25\n",
            "\u001b[1m159/159\u001b[0m \u001b[32m━━━━━━━━━━━━━━━━━━━━\u001b[0m\u001b[37m\u001b[0m \u001b[1m0s\u001b[0m 318ms/step - loss: 3.0985e-04\n",
            "Epoch 8: loss improved from 0.00032 to 0.00030, saving model to default_gru.keras\n",
            "\u001b[1m159/159\u001b[0m \u001b[32m━━━━━━━━━━━━━━━━━━━━\u001b[0m\u001b[37m\u001b[0m \u001b[1m82s\u001b[0m 318ms/step - loss: 3.0976e-04\n",
            "Epoch 9/25\n",
            "\u001b[1m159/159\u001b[0m \u001b[32m━━━━━━━━━━━━━━━━━━━━\u001b[0m\u001b[37m\u001b[0m \u001b[1m0s\u001b[0m 327ms/step - loss: 2.9349e-04\n",
            "Epoch 9: loss improved from 0.00030 to 0.00028, saving model to default_gru.keras\n",
            "\u001b[1m159/159\u001b[0m \u001b[32m━━━━━━━━━━━━━━━━━━━━\u001b[0m\u001b[37m\u001b[0m \u001b[1m83s\u001b[0m 327ms/step - loss: 2.9340e-04\n",
            "Epoch 10/25\n",
            "\u001b[1m159/159\u001b[0m \u001b[32m━━━━━━━━━━━━━━━━━━━━\u001b[0m\u001b[37m\u001b[0m \u001b[1m0s\u001b[0m 328ms/step - loss: 2.7991e-04\n",
            "Epoch 10: loss improved from 0.00028 to 0.00027, saving model to default_gru.keras\n",
            "\u001b[1m159/159\u001b[0m \u001b[32m━━━━━━━━━━━━━━━━━━━━\u001b[0m\u001b[37m\u001b[0m \u001b[1m82s\u001b[0m 328ms/step - loss: 2.7983e-04\n",
            "Epoch 11/25\n",
            "\u001b[1m159/159\u001b[0m \u001b[32m━━━━━━━━━━━━━━━━━━━━\u001b[0m\u001b[37m\u001b[0m \u001b[1m0s\u001b[0m 325ms/step - loss: 2.6849e-04\n",
            "Epoch 11: loss improved from 0.00027 to 0.00026, saving model to default_gru.keras\n",
            "\u001b[1m159/159\u001b[0m \u001b[32m━━━━━━━━━━━━━━━━━━━━\u001b[0m\u001b[37m\u001b[0m \u001b[1m81s\u001b[0m 325ms/step - loss: 2.6841e-04\n",
            "Epoch 12/25\n",
            "\u001b[1m159/159\u001b[0m \u001b[32m━━━━━━━━━━━━━━━━━━━━\u001b[0m\u001b[37m\u001b[0m \u001b[1m0s\u001b[0m 324ms/step - loss: 2.5872e-04\n",
            "Epoch 12: loss improved from 0.00026 to 0.00025, saving model to default_gru.keras\n",
            "\u001b[1m159/159\u001b[0m \u001b[32m━━━━━━━━━━━━━━━━━━━━\u001b[0m\u001b[37m\u001b[0m \u001b[1m82s\u001b[0m 324ms/step - loss: 2.5864e-04\n",
            "Epoch 13/25\n",
            "\u001b[1m159/159\u001b[0m \u001b[32m━━━━━━━━━━━━━━━━━━━━\u001b[0m\u001b[37m\u001b[0m \u001b[1m0s\u001b[0m 327ms/step - loss: 2.5019e-04\n",
            "Epoch 13: loss improved from 0.00025 to 0.00024, saving model to default_gru.keras\n",
            "\u001b[1m159/159\u001b[0m \u001b[32m━━━━━━━━━━━━━━━━━━━━\u001b[0m\u001b[37m\u001b[0m \u001b[1m82s\u001b[0m 327ms/step - loss: 2.5011e-04\n",
            "Epoch 14/25\n",
            "\u001b[1m159/159\u001b[0m \u001b[32m━━━━━━━━━━━━━━━━━━━━\u001b[0m\u001b[37m\u001b[0m \u001b[1m0s\u001b[0m 316ms/step - loss: 2.4248e-04\n",
            "Epoch 14: loss improved from 0.00024 to 0.00023, saving model to default_gru.keras\n",
            "\u001b[1m159/159\u001b[0m \u001b[32m━━━━━━━━━━━━━━━━━━━━\u001b[0m\u001b[37m\u001b[0m \u001b[1m50s\u001b[0m 317ms/step - loss: 2.4240e-04\n",
            "Epoch 15/25\n",
            "\u001b[1m159/159\u001b[0m \u001b[32m━━━━━━━━━━━━━━━━━━━━\u001b[0m\u001b[37m\u001b[0m \u001b[1m0s\u001b[0m 328ms/step - loss: 2.3514e-04\n",
            "Epoch 15: loss improved from 0.00023 to 0.00022, saving model to default_gru.keras\n",
            "\u001b[1m159/159\u001b[0m \u001b[32m━━━━━━━━━━━━━━━━━━━━\u001b[0m\u001b[37m\u001b[0m \u001b[1m84s\u001b[0m 328ms/step - loss: 2.3507e-04\n",
            "Epoch 16/25\n",
            "\u001b[1m159/159\u001b[0m \u001b[32m━━━━━━━━━━━━━━━━━━━━\u001b[0m\u001b[37m\u001b[0m \u001b[1m0s\u001b[0m 314ms/step - loss: 2.2760e-04\n",
            "Epoch 16: loss improved from 0.00022 to 0.00022, saving model to default_gru.keras\n",
            "\u001b[1m159/159\u001b[0m \u001b[32m━━━━━━━━━━━━━━━━━━━━\u001b[0m\u001b[37m\u001b[0m \u001b[1m50s\u001b[0m 314ms/step - loss: 2.2752e-04\n",
            "Epoch 17/25\n",
            "\u001b[1m159/159\u001b[0m \u001b[32m━━━━━━━━━━━━━━━━━━━━\u001b[0m\u001b[37m\u001b[0m \u001b[1m0s\u001b[0m 314ms/step - loss: 2.2517e-04\n",
            "Epoch 17: loss improved from 0.00022 to 0.00021, saving model to default_gru.keras\n",
            "\u001b[1m159/159\u001b[0m \u001b[32m━━━━━━━━━━━━━━━━━━━━\u001b[0m\u001b[37m\u001b[0m \u001b[1m82s\u001b[0m 314ms/step - loss: 2.2510e-04\n",
            "Epoch 18/25\n",
            "\u001b[1m159/159\u001b[0m \u001b[32m━━━━━━━━━━━━━━━━━━━━\u001b[0m\u001b[37m\u001b[0m \u001b[1m0s\u001b[0m 322ms/step - loss: 2.2108e-04\n",
            "Epoch 18: loss improved from 0.00021 to 0.00021, saving model to default_gru.keras\n",
            "\u001b[1m159/159\u001b[0m \u001b[32m━━━━━━━━━━━━━━━━━━━━\u001b[0m\u001b[37m\u001b[0m \u001b[1m51s\u001b[0m 322ms/step - loss: 2.2100e-04\n",
            "Epoch 19/25\n",
            "\u001b[1m159/159\u001b[0m \u001b[32m━━━━━━━━━━━━━━━━━━━━\u001b[0m\u001b[37m\u001b[0m \u001b[1m0s\u001b[0m 317ms/step - loss: 2.1710e-04\n",
            "Epoch 19: loss improved from 0.00021 to 0.00020, saving model to default_gru.keras\n",
            "\u001b[1m159/159\u001b[0m \u001b[32m━━━━━━━━━━━━━━━━━━━━\u001b[0m\u001b[37m\u001b[0m \u001b[1m81s\u001b[0m 318ms/step - loss: 2.1702e-04\n",
            "Epoch 20/25\n",
            "\u001b[1m159/159\u001b[0m \u001b[32m━━━━━━━━━━━━━━━━━━━━\u001b[0m\u001b[37m\u001b[0m \u001b[1m0s\u001b[0m 312ms/step - loss: 2.1337e-04\n",
            "Epoch 20: loss improved from 0.00020 to 0.00020, saving model to default_gru.keras\n",
            "\u001b[1m159/159\u001b[0m \u001b[32m━━━━━━━━━━━━━━━━━━━━\u001b[0m\u001b[37m\u001b[0m \u001b[1m81s\u001b[0m 312ms/step - loss: 2.1329e-04\n",
            "Epoch 21/25\n",
            "\u001b[1m159/159\u001b[0m \u001b[32m━━━━━━━━━━━━━━━━━━━━\u001b[0m\u001b[37m\u001b[0m \u001b[1m0s\u001b[0m 330ms/step - loss: 2.0985e-04\n",
            "Epoch 21: loss improved from 0.00020 to 0.00020, saving model to default_gru.keras\n",
            "\u001b[1m159/159\u001b[0m \u001b[32m━━━━━━━━━━━━━━━━━━━━\u001b[0m\u001b[37m\u001b[0m \u001b[1m85s\u001b[0m 330ms/step - loss: 2.0978e-04\n",
            "Epoch 22/25\n",
            "\u001b[1m159/159\u001b[0m \u001b[32m━━━━━━━━━━━━━━━━━━━━\u001b[0m\u001b[37m\u001b[0m \u001b[1m0s\u001b[0m 353ms/step - loss: 2.0654e-04\n",
            "Epoch 22: loss improved from 0.00020 to 0.00019, saving model to default_gru.keras\n",
            "\u001b[1m159/159\u001b[0m \u001b[32m━━━━━━━━━━━━━━━━━━━━\u001b[0m\u001b[37m\u001b[0m \u001b[1m86s\u001b[0m 353ms/step - loss: 2.0646e-04\n",
            "Epoch 23/25\n",
            "\u001b[1m159/159\u001b[0m \u001b[32m━━━━━━━━━━━━━━━━━━━━\u001b[0m\u001b[37m\u001b[0m \u001b[1m0s\u001b[0m 322ms/step - loss: 2.0342e-04\n",
            "Epoch 23: loss improved from 0.00019 to 0.00019, saving model to default_gru.keras\n",
            "\u001b[1m159/159\u001b[0m \u001b[32m━━━━━━━━━━━━━━━━━━━━\u001b[0m\u001b[37m\u001b[0m \u001b[1m77s\u001b[0m 322ms/step - loss: 2.0335e-04\n",
            "Epoch 24/25\n",
            "\u001b[1m159/159\u001b[0m \u001b[32m━━━━━━━━━━━━━━━━━━━━\u001b[0m\u001b[37m\u001b[0m \u001b[1m0s\u001b[0m 328ms/step - loss: 2.0050e-04\n",
            "Epoch 24: loss improved from 0.00019 to 0.00019, saving model to default_gru.keras\n",
            "\u001b[1m159/159\u001b[0m \u001b[32m━━━━━━━━━━━━━━━━━━━━\u001b[0m\u001b[37m\u001b[0m \u001b[1m83s\u001b[0m 328ms/step - loss: 2.0043e-04\n",
            "Epoch 25/25\n",
            "\u001b[1m159/159\u001b[0m \u001b[32m━━━━━━━━━━━━━━━━━━━━\u001b[0m\u001b[37m\u001b[0m \u001b[1m0s\u001b[0m 326ms/step - loss: 1.9778e-04\n",
            "Epoch 25: loss improved from 0.00019 to 0.00019, saving model to default_gru.keras\n",
            "\u001b[1m159/159\u001b[0m \u001b[32m━━━━━━━━━━━━━━━━━━━━\u001b[0m\u001b[37m\u001b[0m \u001b[1m82s\u001b[0m 326ms/step - loss: 1.9771e-04\n"
          ]
        },
        {
          "data": {
            "text/plain": [
              "<keras.src.callbacks.history.History at 0x7a0fa2081490>"
            ]
          },
          "execution_count": 45,
          "metadata": {},
          "output_type": "execute_result"
        }
      ],
      "source": [
        "early_stop = EarlyStopping(monitor=\"loss\", patience=10, restore_best_weights=True)\n",
        "\n",
        "checkpoint = ModelCheckpoint(\n",
        "    \"default_gru.keras\",  # File to save the model\n",
        "    monitor=\"loss\",  # Metric to track (e.g., validation loss)\n",
        "    save_best_only=True,  # Save only if the model improves\n",
        "    mode=\"min\",  # Save when 'loss' decreases\n",
        "    verbose=1  # Print messages when saving\n",
        ")\n",
        "\n",
        "model_gru.fit(X_train, y_train, epochs=25, batch_size=32, callbacks=[early_stop, checkpoint], verbose=1)"
      ]
    },
    {
      "cell_type": "code",
      "execution_count": 46,
      "metadata": {
        "id": "FaXZDw0L6Y3f"
      },
      "outputs": [],
      "source": [
        "#model_gru = load_model(\"default_gru.keras\")"
      ]
    },
    {
      "cell_type": "code",
      "execution_count": 47,
      "metadata": {
        "id": "EfV4IwZQ6cQ6"
      },
      "outputs": [],
      "source": [
        "#model_gru.fit(X_train, y_train, epochs=25, batch_size=32, callbacks=[early_stop, checkpoint], verbose=1)"
      ]
    },
    {
      "cell_type": "code",
      "execution_count": 48,
      "metadata": {
        "colab": {
          "base_uri": "https://localhost:8080/",
          "height": 52
        },
        "id": "pmBqi2CqHXpm",
        "outputId": "ce516a86-463d-454c-b2c6-28db396b4848"
      },
      "outputs": [
        {
          "data": {
            "application/vnd.google.colaboratory.intrinsic+json": {
              "type": "string"
            },
            "text/plain": [
              "'The root mean squared error (RMSE) is 3803.78\\nThe Mean Absolute Error (MAE) is 3231.33\\nThe R-squared (R²) score is 0.9351\\n\\nThe Mean Squared Logarithmic Error (MSLE) is 0.002117\\nThe Mean Absolute Percentage Error (MAPE) is 20.73%.\\n'"
            ]
          },
          "execution_count": 48,
          "metadata": {},
          "output_type": "execute_result"
        }
      ],
      "source": [
        "# Model 1: GRU (50 Epochs, StandardScaler, early stopping, dropouts, Close, batchsize=32, n_steps=120, optimizer=Adam)\n",
        "\"\"\"Epoch 10/50\n",
        "128/128 ━━━━━━━━━━━━━━━━━━━━ 41s 227ms/step - loss: 0.0078\"\"\"\n",
        "\n",
        "# ---\n",
        "\n",
        "# Model 2: GRU (50 Epochs, MinMaxScaler, early stopping, dropouts, Close, batchsize=32, n_steps=120, optimizer=Adam)\n",
        "\"\"\"Epoch 19/50\n",
        "128/128 ━━━━━━━━━━━━━━━━━━━━ 42s 225ms/step - loss: 3.2570e-04\"\"\"\n",
        "# RMSE: 2712.30\n",
        "\n",
        "# ---\n",
        "\n",
        "# Model 3 GRU (50 Epochs, StandardScaler, early stopping, dropouts, Close, batchsize=32, n_steps=120, optimizer=Adam)\n",
        "# Bez sensu\n",
        "\n",
        "# ---\n",
        "\n",
        "# Model 4 GRU (50 Epochs, StandardScaler, early stopping, dropouts, Close, batchsize=32, n_steps=120, optimizer=RMSprop)\n",
        "\"\"\"Epoch 23/50\n",
        "128/128 ━━━━━━━━━━━━━━━━━━━━ 43s 227ms/step - loss: 0.0081\n",
        "The root mean squared error is 2611.39\n",
        "The Mean Absolute Error (MAE) is 1865.43\n",
        "The R-squared (R²) score is 0.9842\n",
        "\n",
        "The Mean Squared Logarithmic Error (MSLE) is 0.003290\n",
        "The Mean Absolute Percentage Error (MAPE) is 63.39%.\"\"\"\n",
        "\n",
        "# ---\n",
        "\n",
        "# Model 5 GRU (50 Epochs, StandardScaler, early stopping, NO dropouts, Close, batchsize=32, n_steps=120, optimizer=RMSprop)\n",
        "\"\"\"Epoch 50/50\n",
        "128/128 ━━━━━━━━━━━━━━━━━━━━ 42s 215ms/step - loss: 0.0032\n",
        "The root mean squared error is 2823.36\n",
        "The Mean Absolute Error (MAE) is 1452.78\n",
        "The R-squared (R²) score is 0.9815\n",
        "\n",
        "The Mean Squared Logarithmic Error (MSLE) is 0.001752\n",
        "The Mean Absolute Percentage Error (MAPE) is 61.78%.\"\"\"\n",
        "\n",
        "# ---> NONSENSE\n",
        "\n",
        "# Model 6 GRU + LSTM (50 Epochs, MinMaxScaler, early stopping, NO dropouts, Close, batchsize=32, n_steps=60, optimizer=RMSprop)\n",
        "\"\"\"Epoch 50/50\n",
        "129/129 ━━━━━━━━━━━━━━━━━━━━ 21s 162ms/step - loss: 1.4298e-04\n",
        "The root mean squared error is 2689.83\n",
        "The Mean Absolute Error (MAE) is 1915.69\n",
        "The R-squared (R²) score is 0.9833\n",
        "\n",
        "The Mean Squared Logarithmic Error (MSLE) is 0.002702\n",
        "The Mean Absolute Percentage Error (MAPE) is 60.97%.\"\"\"\n",
        "\n",
        "# ---\n",
        "\n",
        "# Model 7 LSTM + GRU (50 Epochs, MinMaxScaler, early stopping, NO dropouts, Close, batchsize=32, n_steps=30, optimizer=RMSprop)\n",
        "\"\"\"Epoch 50/50\n",
        "130/130 ━━━━━━━━━━━━━━━━━━━━ 21s 82ms/step - loss: 1.8203e-04\n",
        "The root mean squared error is 1777.97\n",
        "The Mean Absolute Error (MAE) is 1125.94\n",
        "The R-squared (R²) score is 0.9927\n",
        "\n",
        "The Mean Squared Logarithmic Error (MSLE) is 0.001274\n",
        "The Mean Absolute Percentage Error (MAPE) is 62.72%.\"\"\"\n",
        "\n",
        "# --- Explore more epochs in simple LSTM and GRU + extend training set to the end of 2022 (all same -> 100 epochs, n_steps=60)\n",
        "# LSTM:\n",
        "\"\"\"\n",
        "Epoch 100/100\n",
        "141/141 ━━━━━━━━━━━━━━━━━━━━ 11s 74ms/step - loss: 1.1724e-04\n",
        "The root mean squared error is 1654.12\n",
        "The Mean Absolute Error (MAE) is 1092.90\n",
        "The R-squared (R²) score is 0.9942\n",
        "\n",
        "The Mean Squared Logarithmic Error (MSLE) is 0.000872\n",
        "The Mean Absolute Percentage Error (MAPE) is 58.63%.\n",
        "\"\"\"\n",
        "\n",
        "# ---\n",
        "# LSTM: (all same -> StandardScaler, 100 epochs, n_steps=60)\n",
        "\"\"\"\n",
        "tstart = \"2010-07-18\"\n",
        "tend = \"2024-11-01\n",
        "\"\"\"\n",
        "\"\"\"The root mean squared error is 3056.52\n",
        "The Mean Absolute Error (MAE) is 2364.14\n",
        "The R-squared (R²) score is 0.9581\n",
        "\n",
        "The Mean Squared Logarithmic Error (MSLE) is 0.001222\n",
        "The Mean Absolute Percentage Error (MAPE) is 20.34%.\"\"\"\n",
        "\n",
        "# ---\n",
        "# LSTM: (all same -> MinMaxScaler, 150 epochs, n_steps=60)\n",
        "\"\"\"\n",
        "tstart = \"2017-06-01\"\n",
        "tend = \"2024-10-01\n",
        "\"\"\"\n",
        "\"\"\"The root mean squared error is 2502.41\n",
        "The Mean Absolute Error (MAE) is 1861.88\n",
        "The R-squared (R²) score is 0.9719\n",
        "\n",
        "The Mean Squared Logarithmic Error (MSLE) is 0.000869\n",
        "The Mean Absolute Percentage Error (MAPE) is 20.82%.\"\"\"\n",
        "\n",
        "\n",
        "# ---\n",
        "# New LSTM architecture (lstm_cryptocurrency.keras)\n",
        "# ponad 3500 RMSE\n",
        "\"\"\"\n",
        "The root mean squared error is 4279.11\n",
        "The Mean Absolute Error (MAE) is 3399.72\n",
        "The R-squared (R²) score is 0.9178\n",
        "\n",
        "The Mean Squared Logarithmic Error (MSLE) is 0.002309\n",
        "The Mean Absolute Percentage Error (MAPE) is 19.90%.\n",
        "\"\"\"\n",
        "\n",
        "# Rozszerzenie danych uczących o rok\n",
        "\"\"\"\n",
        "The root mean squared error is 3060.83\n",
        "The Mean Absolute Error (MAE) is 2381.87\n",
        "The R-squared (R²) score is 0.9580\n",
        "\n",
        "The Mean Squared Logarithmic Error (MSLE) is 0.001235\n",
        "The Mean Absolute Percentage Error (MAPE) is 20.45%.\"\"\"\n",
        "\n",
        "# Default, simplest model\n",
        "\"\"\"The root mean squared error is 4009.40\n",
        "The Mean Absolute Error (MAE) is 3428.78\n",
        "The R-squared (R²) score is 0.9279\n",
        "\n",
        "The Mean Squared Logarithmic Error (MSLE) is 0.002376\n",
        "The Mean Absolute Percentage Error (MAPE) is 20.74%.\"\"\"\n",
        "# zwiększenie units 125 -> 256\n",
        "\"\"\"The root mean squared error is 4071.47\"\"\"\n",
        "# n_steps=120\n",
        "\n",
        "\"\"\"\n",
        "The root mean squared error (RMSE) is 3127.70\n",
        "The Mean Absolute Error (MAE) is 2517.05\n",
        "The R-squared (R²) score is 0.9561\n",
        "\n",
        "The Mean Squared Logarithmic Error (MSLE) is 0.001420\n",
        "The Mean Absolute Percentage Error (MAPE) is 20.78%.\"\"\"\n",
        "\n",
        "# od 2016-07-09 i n_steps=120 i GRU (units=256) -> 50 epochs\n",
        "\"\"\"The root mean squared error (RMSE) is 3803.78\n",
        "The Mean Absolute Error (MAE) is 3231.33\n",
        "The R-squared (R²) score is 0.9351\n",
        "\n",
        "The Mean Squared Logarithmic Error (MSLE) is 0.002117\n",
        "The Mean Absolute Percentage Error (MAPE) is 20.73%.\n",
        "\"\"\""
      ]
    },
    {
      "cell_type": "code",
      "execution_count": 49,
      "metadata": {
        "colab": {
          "base_uri": "https://localhost:8080/"
        },
        "id": "mx19tEROQ59n",
        "outputId": "10b24ba9-fe3d-40fe-9e49-ebad009788a2"
      },
      "outputs": [
        {
          "name": "stderr",
          "output_type": "stream",
          "text": [
            "WARNING:tensorflow:5 out of the last 7 calls to <function TensorFlowTrainer.make_predict_function.<locals>.one_step_on_data_distributed at 0x7a0fa22eb1a0> triggered tf.function retracing. Tracing is expensive and the excessive number of tracings could be due to (1) creating @tf.function repeatedly in a loop, (2) passing tensors with different shapes, (3) passing Python objects instead of tensors. For (1), please define your @tf.function outside of the loop. For (2), @tf.function has reduce_retracing=True option that can avoid unnecessary retracing. For (3), please refer to https://www.tensorflow.org/guide/function#controlling_retracing and https://www.tensorflow.org/api_docs/python/tf/function for  more details.\n"
          ]
        },
        {
          "name": "stdout",
          "output_type": "stream",
          "text": [
            "\u001b[1m2/3\u001b[0m \u001b[32m━━━━━━━━━━━━━\u001b[0m\u001b[37m━━━━━━━\u001b[0m \u001b[1m0s\u001b[0m 74ms/step "
          ]
        },
        {
          "name": "stderr",
          "output_type": "stream",
          "text": [
            "WARNING:tensorflow:6 out of the last 9 calls to <function TensorFlowTrainer.make_predict_function.<locals>.one_step_on_data_distributed at 0x7a0fa22eb1a0> triggered tf.function retracing. Tracing is expensive and the excessive number of tracings could be due to (1) creating @tf.function repeatedly in a loop, (2) passing tensors with different shapes, (3) passing Python objects instead of tensors. For (1), please define your @tf.function outside of the loop. For (2), @tf.function has reduce_retracing=True option that can avoid unnecessary retracing. For (3), please refer to https://www.tensorflow.org/guide/function#controlling_retracing and https://www.tensorflow.org/api_docs/python/tf/function for  more details.\n"
          ]
        },
        {
          "name": "stdout",
          "output_type": "stream",
          "text": [
            "\u001b[1m3/3\u001b[0m \u001b[32m━━━━━━━━━━━━━━━━━━━━\u001b[0m\u001b[37m\u001b[0m \u001b[1m1s\u001b[0m 184ms/step\n"
          ]
        }
      ],
      "source": [
        "dataset_total = dataset.loc[:, \"Close\"]\n",
        "inputs = dataset_total[len(dataset_total) - len(test_set) - n_steps :].values\n",
        "inputs = inputs.reshape(-1, 1)\n",
        "#scaling\n",
        "inputs = sc.transform(inputs)\n",
        "\n",
        "# Split into samples\n",
        "X_test, y_test = split_sequence(inputs, n_steps)\n",
        "# reshape\n",
        "X_test = X_test.reshape(X_test.shape[0], X_test.shape[1], features)\n",
        "#prediction\n",
        "predicted_stock_price = model_gru.predict(X_test)\n",
        "#inverse transform the values\n",
        "predicted_stock_price = sc.inverse_transform(predicted_stock_price)"
      ]
    },
    {
      "cell_type": "code",
      "execution_count": 50,
      "metadata": {
        "colab": {
          "base_uri": "https://localhost:8080/"
        },
        "id": "May2RHEY2SCB",
        "outputId": "ba98267b-58bf-41ab-e0d4-45755b2e14b6"
      },
      "outputs": [
        {
          "name": "stdout",
          "output_type": "stream",
          "text": [
            "The root mean squared error (RMSE) is 2452.07\n",
            "The Mean Absolute Error (MAE) is 1857.39\n",
            "The R-squared (R²) score is 0.9730\n",
            "\n",
            "The Mean Squared Logarithmic Error (MSLE) is 0.000804\n",
            "The Mean Absolute Percentage Error (MAPE) is 21.30%.\n"
          ]
        }
      ],
      "source": [
        "evaluate_model(test_set, predicted_stock_price)"
      ]
    },
    {
      "cell_type": "code",
      "execution_count": 51,
      "metadata": {
        "colab": {
          "base_uri": "https://localhost:8080/",
          "height": 669
        },
        "id": "58fZF2Lm2h0d",
        "outputId": "02b54fcd-0eca-4811-e8df-39902db6b416"
      },
      "outputs": [
        {
          "data": {
            "image/png": "[encoded data removed]",
            "text/plain": [
              "<Figure size 1600x900 with 1 Axes>"
            ]
          },
          "metadata": {},
          "output_type": "display_data"
        }
      ],
      "source": [
        "plot_predictions(test_set, predicted_stock_price)"
      ]
    },
    {
      "cell_type": "code",
      "execution_count": 51,
      "metadata": {
        "id": "kmsly-_p25_t"
      },
      "outputs": [],
      "source": []
    }
  ],
  "metadata": {
    "colab": {
      "provenance": []
    },
    "kernelspec": {
      "display_name": "Python 3",
      "name": "python3"
    },
    "language_info": {
      "name": "python"
    }
  },
  "nbformat": 4,
  "nbformat_minor": 0
}
